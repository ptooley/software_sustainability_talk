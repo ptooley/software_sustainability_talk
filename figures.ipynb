{
 "cells": [
  {
   "cell_type": "code",
   "execution_count": 1,
   "metadata": {
    "collapsed": true
   },
   "outputs": [],
   "source": [
    "import matplotlib.pyplot as plt\n",
    "from matplotlib import rcParams as mrc\n",
    "import matplotlib.ticker as mt\n",
    "\n",
    "import numpy as np\n",
    "\n",
    "from IPython.display import display"
   ]
  },
  {
   "cell_type": "code",
   "execution_count": 6,
   "metadata": {},
   "outputs": [],
   "source": [
    "fsize_lims = 1e3, 1e17\n",
    "ttime_lims = 1, 1e6\n",
    "\n",
    "datasets = {\"Library of Congress\": (7e15, 3600*24*7),\n",
    "            \"Paper (pdf)\": (1e6, 60),\n",
    "            \"microCT\": (350e9, 3600)}\n",
    "\n",
    "labels = list(datasets.keys())\n",
    "sizes, times = zip(*datasets.values())"
   ]
  },
  {
   "cell_type": "code",
   "execution_count": 17,
   "metadata": {},
   "outputs": [
    {
     "data": {
      "image/png": "[encoded data removed]",
      "text/plain": [
       "<Figure size 432x288 with 1 Axes>"
      ]
     },
     "metadata": {},
     "output_type": "display_data"
    }
   ],
   "source": [
    "plt.xkcd()\n",
    "mrc.update({'font.family': ['xkcd script'],\n",
    "            'text.usetex': False})\n",
    "\n",
    "fig = plt.figure()\n",
    "ax = fig.add_subplot(111)\n",
    "\n",
    "ax.scatter(sizes, times, color='k', marker='.')\n",
    "\n",
    "ax.set_xscale('log')\n",
    "ax.set_yscale('log')\n",
    "\n",
    "ax.set_xlim(*fsize_lims)\n",
    "ax.set_ylim(*ttime_lims)\n",
    "\n",
    "ax.xaxis.set_major_locator(mt.FixedLocator((1e3,1e6,1e9,1e12,1e15)))\n",
    "ax.yaxis.set_major_locator(mt.FixedLocator((10,3600,3600*24,3600*24*7)))\n",
    "\n",
    "ax.xaxis.set_major_formatter(mt.FixedFormatter(('1kB','1MB','1GB','1TB', '1PB')))\n",
    "ax.yaxis.set_major_formatter(mt.FixedFormatter(('seconds','hours','days','weeks')))\n",
    "\n",
    "display(fig)\n",
    "plt.close(fig)"
   ]
  },
  {
   "cell_type": "code",
   "execution_count": null,
   "metadata": {
    "collapsed": true
   },
   "outputs": [],
   "source": []
  },
  {
   "cell_type": "code",
   "execution_count": null,
   "metadata": {
    "collapsed": true
   },
   "outputs": [],
   "source": []
  },
  {
   "cell_type": "code",
   "execution_count": null,
   "metadata": {
    "collapsed": true
   },
   "outputs": [],
   "source": []
  }
 ],
 "metadata": {
  "kernelspec": {
   "display_name": "Python 3",
   "language": "python",
   "name": "python3"
  },
  "language_info": {
   "codemirror_mode": {
    "name": "ipython",
    "version": 3
   },
   "file_extension": ".py",
   "mimetype": "text/x-python",
   "name": "python",
   "nbconvert_exporter": "python",
   "pygments_lexer": "ipython3",
   "version": "3.6.4"
  }
 },
 "nbformat": 4,
 "nbformat_minor": 2
}
